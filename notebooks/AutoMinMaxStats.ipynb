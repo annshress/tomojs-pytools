{
 "cells": [
  {
   "cell_type": "markdown",
   "metadata": {},
   "source": [
    "# Histogram of EM Data with Automatic Min/Max Visualization \n",
    "\n",
    "This notebook is for exploration of automatic computation of Min/Max parameters for adjust with image intestity range used to visualized electron microscopy image data."
   ]
  },
  {
   "cell_type": "code",
   "execution_count": 1,
   "metadata": {},
   "outputs": [],
   "source": [
    "input_filename = \"/Users/blowekamp/Desktop/20130412-Vn-poxtomo_8/20130412-Vn-poxtomo_8_full_rec.mrc\""
   ]
  },
  {
   "cell_type": "code",
   "execution_count": 2,
   "metadata": {},
   "outputs": [],
   "source": [
    "import SimpleITK as sitk\n",
    "import numpy as np\n",
    "import matplotlib.pyplot as plt\n",
    "from scipy.stats import norm\n",
    "%matplotlib notebook"
   ]
  },
  {
   "cell_type": "code",
   "execution_count": 3,
   "metadata": {},
   "outputs": [],
   "source": [
    "img = sitk.ReadImage(input_filename)"
   ]
  },
  {
   "cell_type": "code",
   "execution_count": null,
   "metadata": {},
   "outputs": [],
   "source": [
    "stats = sitk.StatisticsImageFilter()\n",
    "stats.Execute(img)\n",
    "print(stats)"
   ]
  },
  {
   "cell_type": "code",
   "execution_count": null,
   "metadata": {},
   "outputs": [],
   "source": [
    "a_img = sitk.GetArrayViewFromImage(img).flatten()\n",
    "bins = 2**np.iinfo(a_img.dtype).bits\n",
    "h, b = np.histogram(a_img, bins=bins, range=(np.iinfo(a_img.dtype).min, np.iinfo(a_img.dtype).max + 1))"
   ]
  },
  {
   "cell_type": "code",
   "execution_count": null,
   "metadata": {},
   "outputs": [],
   "source": [
    "def rescale_min_max(img, vmin, vmax):\n",
    "    ss_filter = sitk.ShiftScaleImageFilter()\n",
    "    ss_filter.SetShift( -float(vmin) )\n",
    "    ss_filter.SetScale( 255.0/(vmax-vmin) )\n",
    "    ss_filter.SetOutputPixelType(sitk.sitkUInt8)\n",
    "    return ss_filter.Execute(img)"
   ]
  },
  {
   "cell_type": "code",
   "execution_count": null,
   "metadata": {},
   "outputs": [],
   "source": [
    "\n",
    "def plot_range_options(img, range_mult=3, percentile_crop=10, bins=1024, fig_filename=None):\n",
    "\n",
    "\n",
    "    fa_img = sitk.GetArrayViewFromImage(img).flatten()\n",
    "    median = np.median(fa_img)\n",
    "    mad = np.median(np.abs(fa_img-median))\n",
    "    mean = np.mean(fa_img)\n",
    "    sigma = np.sqrt(np.var(fa_img))\n",
    "\n",
    "\n",
    "    mad_range =  (median-range_mult*mad, median+range_mult*mad)\n",
    "    percentile_range = (np.percentile(a_img,percentile_crop*.5), np.percentile(a_img,100-percentile_crop*.5))\n",
    "\n",
    "    \n",
    "    sigma_range = (mean-range_mult*sigma, \n",
    "                   mean+range_mult*sigma)\n",
    "    \n",
    "    min_max_range = (np.min(fa_img), np.max(fa_img))\n",
    "\n",
    "    fig = plt.figure(figsize=(8, 8), dpi=240)\n",
    "    ax = fig.add_subplot(2, 4, (1, 4))\n",
    "\n",
    "    x = np.linspace(min(fa_img), max(fa_img), bins)\n",
    "    plt.plot(x, norm.pdf(x, mean, sigma), color='k', linestyle='--', alpha=0.5, label=f'Fit Gaussian')\n",
    "\n",
    "    plt.hist( fa_img, bins=bins, density=True, color='b')\n",
    "\n",
    "    plt.axvline(x=mad_range[0], color='r', alpha=0.5, label=f'{range_mult} Median Absolute Deviation')\n",
    "    plt.axvline(x=mad_range[1], color='r', alpha=0.5)\n",
    "    plt.axvline(x=median, color='r', alpha=0.5, linestyle='--', label=f'Median')\n",
    "    print(f\"Median: {median} {range_mult} Median Absolute Deviation: {mad_range}\")\n",
    "\n",
    "\n",
    "    plt.axvline(x=percentile_range[0], color='g', alpha=0.5, label=f'Middle {100-percentile_crop} Percentile')\n",
    "    plt.axvline(x=percentile_range[1], color='g', alpha=0.5)\n",
    "    print(f\"Middle {100-percentile_crop} Percentile: {percentile_range}\" )\n",
    "\n",
    "    plt.axvline(x=sigma_range[0], color='y', alpha=0.5, label=f'{range_mult} Sigma')\n",
    "    plt.axvline(x=sigma_range[1], color='y', alpha=0.5)\n",
    "    print(f\"{range_mult} Sigma: {sigma_range}\" )\n",
    "    \n",
    "    plt.axvline(x=min_max_range[0], color='k', alpha=0.5, label=f'Min/Max')\n",
    "    plt.axvline(x=min_max_range[1], color='k', alpha=0.5)\n",
    "    print(f\"Min/Max: {min_max_range}\" )\n",
    "\n",
    "\n",
    "    \n",
    "   \n",
    "\n",
    "    plt.legend(fontsize=5)\n",
    "    plt.title(\"Data Ranges and Histogram\")\n",
    "\n",
    "    \n",
    "    img_slice = img[:,img.GetSize()[1]//2,:]\n",
    "    \n",
    "    ax = fig.add_subplot(2, 4, 5)\n",
    "    plt.imshow(sitk.GetArrayViewFromImage(rescale_min_max(img_slice,*mad_range)), cmap='gray')\n",
    "    ax.axes.xaxis.set_visible(False)\n",
    "    ax.axes.yaxis.set_visible(False)\n",
    "    plt.title(f'{range_mult} Median Absolute Deviation', color='r', fontsize=5)\n",
    "    \n",
    "    ax = fig.add_subplot(2, 4, 6)\n",
    "    plt.imshow(sitk.GetArrayViewFromImage(rescale_min_max(img_slice,*percentile_range)), cmap='gray')\n",
    "    ax.axes.xaxis.set_visible(False)\n",
    "    ax.axes.yaxis.set_visible(False)\n",
    "    plt.title(f'Middle {100-percentile_crop} Percentile', color='g', fontsize=5)\n",
    "    \n",
    "    ax = fig.add_subplot(2, 4, 7)\n",
    "    plt.imshow(sitk.GetArrayViewFromImage(rescale_min_max(img_slice,*sigma_range)), cmap='gray')\n",
    "    ax.axes.xaxis.set_visible(False)\n",
    "    ax.axes.yaxis.set_visible(False)\n",
    "    plt.title(f'{range_mult} Sigma', color='y', fontsize=5)\n",
    "    \n",
    "    \n",
    "    ax = fig.add_subplot(2, 4, 8)\n",
    "    plt.imshow(sitk.GetArrayViewFromImage(rescale_min_max(img_slice, *min_max_range)), cmap='gray')\n",
    "    ax.axes.xaxis.set_visible(False)\n",
    "    ax.axes.yaxis.set_visible(False)\n",
    "    plt.title(f'Data Min/Max', color='k', fontsize=5)\n",
    "    \n",
    "    plt.show()\n",
    "    if fig_filename:\n",
    "        plt.savefig(fig_filename)"
   ]
  },
  {
   "cell_type": "code",
   "execution_count": null,
   "metadata": {},
   "outputs": [],
   "source": [
    "plot_range_options(img, range_mult=3, percentile_crop=10, bins=1024, fig_filename=\"figure.pdf\")"
   ]
  },
  {
   "cell_type": "code",
   "execution_count": null,
   "metadata": {},
   "outputs": [],
   "source": []
  },
  {
   "cell_type": "code",
   "execution_count": 4,
   "metadata": {},
   "outputs": [],
   "source": [
    "a_img = sitk.GetArrayViewFromImage(img).flatten()\n",
    "bins = 2**np.iinfo(a_img.dtype).bits\n",
    "\n",
    "h, b = np.histogram(list(), bins=bins, range=(np.iinfo(a_img.dtype).min, np.iinfo(a_img.dtype).max + 1))\n",
    "       "
   ]
  },
  {
   "cell_type": "code",
   "execution_count": null,
   "metadata": {},
   "outputs": [],
   "source": [
    "def stream_build_histogram(filename:str, histogram_bin_edges, extract_axis = 1, density = False):\n",
    "    reader = sitk.ImageFileReader()\n",
    "    reader.SetFileName(filename)\n",
    "    reader.ReadImageInformation()\n",
    "      \n",
    "    extract_index = [0]*reader.GetDimension()\n",
    "\n",
    "    extract_size = list(reader.GetSize())\n",
    "    extract_size[extract_axis] = 0\n",
    "    reader.SetExtractSize(extract_size)\n",
    "\n",
    "    h = np.zeros(len(histogram_bin_edges)-1, dtype=np.int64)\n",
    "    \n",
    "    for i in range(reader.GetSize()[extract_axis]):\n",
    "        extract_index[extract_axis] = i\n",
    "        reader.SetExtractIndex(extract_index)\n",
    "        img = reader.Execute()\n",
    "        \n",
    "        # accumulate histogram density/weights\n",
    "        h += np.histogram( sitk.GetArrayViewFromImage(img).flatten(), bins=histogram_bin_edges, density=density)[0]\n",
    "    \n",
    "    return h, np.array(np.histogram_bin_edges)"
   ]
  },
  {
   "cell_type": "code",
   "execution_count": null,
   "metadata": {},
   "outputs": [],
   "source": [
    "bin_edges=range(np.iinfo(a_img.dtype).min, np.iinfo(a_img.dtype).max + 2)\n",
    "h, b = stream_build_histogram(input_filename, bin_edges)"
   ]
  },
  {
   "cell_type": "code",
   "execution_count": null,
   "metadata": {},
   "outputs": [],
   "source": [
    "len(b2)"
   ]
  },
  {
   "cell_type": "code",
   "execution_count": null,
   "metadata": {},
   "outputs": [],
   "source": [
    "len(bin_edges)"
   ]
  },
  {
   "cell_type": "code",
   "execution_count": null,
   "metadata": {},
   "outputs": [],
   "source": []
  }
 ],
 "metadata": {
  "kernelspec": {
   "display_name": "Python 3",
   "language": "python",
   "name": "python3"
  },
  "language_info": {
   "codemirror_mode": {
    "name": "ipython",
    "version": 3
   },
   "file_extension": ".py",
   "mimetype": "text/x-python",
   "name": "python",
   "nbconvert_exporter": "python",
   "pygments_lexer": "ipython3",
   "version": "3.8.5"
  }
 },
 "nbformat": 4,
 "nbformat_minor": 4
}
